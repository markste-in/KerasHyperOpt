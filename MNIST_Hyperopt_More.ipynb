{
 "cells": [
  {
   "cell_type": "raw",
   "metadata": {
    "colab": {
     "base_uri": "https://localhost:8080/",
     "height": 34
    },
    "colab_type": "code",
    "executionInfo": {
     "elapsed": 4452,
     "status": "ok",
     "timestamp": 1548440180319,
     "user": {
      "displayName": "tommy.markstein@mtu-online.com",
      "photoUrl": "",
      "userId": "14384501770688171723"
     },
     "user_tz": -60
    },
    "id": "9l9UE0c8wP47",
    "outputId": "b5c421a5-87c3-462d-84c0-3f8aebef8cea"
   },
   "source": [
    "from google.colab import auth\n",
    "auth.authenticate_user()\n",
    "from google.colab import drive\n",
    "drive.mount('/gdrive')"
   ]
  },
  {
   "cell_type": "code",
   "execution_count": 22,
   "metadata": {},
   "outputs": [
    {
     "name": "stdout",
     "output_type": "stream",
     "text": [
      "list       166429    +13565\n",
      "function    49502     +6826\n",
      "dict        59919     +4751\n"
     ]
    }
   ],
   "source": [
    "#Checking for memory leaks\n",
    "import objgraph\n",
    "objgraph.show_growth(limit=3) "
   ]
  },
  {
   "cell_type": "code",
   "execution_count": 23,
   "metadata": {},
   "outputs": [
    {
     "name": "stdout",
     "output_type": "stream",
     "text": [
      "The memory_profiler extension is already loaded. To reload it, use:\n",
      "  %reload_ext memory_profiler\n"
     ]
    }
   ],
   "source": [
    "%load_ext memory_profiler"
   ]
  },
  {
   "cell_type": "code",
   "execution_count": 24,
   "metadata": {
    "colab": {},
    "colab_type": "code",
    "id": "uQ_R6BRMwdRg"
   },
   "outputs": [],
   "source": [
    "import os\n",
    "path_to_testdata = ''\n",
    "trialfilename ='MNIST_Hyperopt_More.trial'\n",
    "trialfile = os.path.join(path_to_testdata,trialfilename)"
   ]
  },
  {
   "cell_type": "code",
   "execution_count": 25,
   "metadata": {
    "colab": {},
    "colab_type": "code",
    "id": "9sgodnbBkTzS"
   },
   "outputs": [],
   "source": [
    "import tensorflow as tf\n",
    "import pickle\n",
    "from IPython.display import clear_output \n",
    "import time"
   ]
  },
  {
   "cell_type": "code",
   "execution_count": 26,
   "metadata": {
    "colab": {},
    "colab_type": "code",
    "id": "DaXy8JvnkTze"
   },
   "outputs": [],
   "source": [
    "mnist = tf.keras.datasets.mnist"
   ]
  },
  {
   "cell_type": "code",
   "execution_count": 27,
   "metadata": {
    "colab": {},
    "colab_type": "code",
    "id": "oORgtyqNkTzl"
   },
   "outputs": [],
   "source": [
    "(x_train,y_train),(x_test,y_test)= mnist.load_data()\n"
   ]
  },
  {
   "cell_type": "code",
   "execution_count": 28,
   "metadata": {
    "colab": {},
    "colab_type": "code",
    "id": "DfXd22d7kTzr"
   },
   "outputs": [],
   "source": [
    "def reset_weights(model):\n",
    "    session = tf.keras.backend.get_session()\n",
    "    for layer in model.layers: \n",
    "        if hasattr(layer, 'kernel_initializer'):\n",
    "            layer.kernel.initializer.run(session=session)"
   ]
  },
  {
   "cell_type": "code",
   "execution_count": 29,
   "metadata": {
    "colab": {},
    "colab_type": "code",
    "id": "3NIsTeEdkTz0"
   },
   "outputs": [],
   "source": [
    "def train(learning_rate=0.01,mom=0.0, decay_rate=0.0,num_epochs = 1 ,n1 = 10 , n2=10, d_rate = 0.2, loss_f='sparse_categorical_crossentropy'):\n",
    "    #print(\"Start training\")\n",
    "    #tstart = time.time()\n",
    "    model = tf.keras.models.Sequential([\n",
    "        tf.keras.layers.Flatten(),\n",
    "        tf.keras.layers.Dense(n1,input_shape=(None,784),activation=tf.nn.relu),\n",
    "        tf.keras.layers.Dropout(d_rate),\n",
    "        tf.keras.layers.Dense(n2,activation=tf.nn.relu),\n",
    "        tf.keras.layers.Dropout(d_rate),\n",
    "        tf.keras.layers.Dense(10,activation=tf.nn.softmax)    \n",
    "    ])\n",
    "    #tcreate = time.time()\n",
    "    #print(\"Model created: dt=\",tcreate-tstart)\n",
    "    sgd = tf.keras.optimizers.SGD(lr=learning_rate, momentum=mom, decay=decay_rate)\n",
    "    #tcreateOpt = time.time()\n",
    "    #print(\"Optimizer created: dt=\",tcreateOpt-tcreate)\n",
    "    model.compile(optimizer=sgd,\n",
    "                  loss=loss_f,\n",
    "                  metrics=['accuracy'],\n",
    "                  verbose=0\n",
    "    )\n",
    "    #tcompile = time.time()\n",
    "    #print(\"Model compiled: dt=\",tcompile-tcreateOpt)\n",
    "    model.fit(x_train,y_train,epochs=num_epochs)\n",
    "    \n",
    "    #tfit = time.time()\n",
    "    #print(\"Model fitted: dt=\",tfit-tcompile)\n",
    "    #print(\"Time per epoch: \", (tfit-tcompile) / num_epochs)\n",
    "    #history_callback = model.fit(x_train,y_train,epochs=num_epochs)\n",
    "    #loss_history = history_callback.history[\"loss\"]\n",
    "    \n",
    "    #reset_weights(model)\n",
    "    \n",
    "    return model"
   ]
  },
  {
   "cell_type": "code",
   "execution_count": 30,
   "metadata": {
    "colab": {},
    "colab_type": "code",
    "id": "6w3yxjjHkTz5"
   },
   "outputs": [],
   "source": [
    "def load_trials():\n",
    "    try:\n",
    "        trials = pickle.load( open( trialfile, \"rb\" ) )\n",
    "        print(\"Trials file found with\", len(trials),\"entries\")\n",
    "        if len(trials) == 0:\n",
    "            trials = Trials()\n",
    "    except:\n",
    "        trials = Trials()\n",
    "        print(\"No trials found. Create new trials file\")\n",
    "\n",
    "    return trials\n",
    "def save_trials():\n",
    "    tstart = time.time()\n",
    "    pickle.dump(trials,open(trialfile, 'wb'))\n",
    "    print(\"Saved\", len(trials), \"runs in \",time.time()-tstart )"
   ]
  },
  {
   "cell_type": "code",
   "execution_count": 31,
   "metadata": {
    "colab": {},
    "colab_type": "code",
    "id": "V8WiJLhGkT0A"
   },
   "outputs": [],
   "source": [
    "\n",
    "#Used for parameter optimization\n",
    "from hyperopt import fmin, tpe, space_eval\n",
    "from hyperopt import hp , Trials, STATUS_OK\n",
    "from hyperopt import anneal, rand, tpe, mix\n",
    "from functools import partial"
   ]
  },
  {
   "cell_type": "code",
   "execution_count": 32,
   "metadata": {
    "colab": {},
    "colab_type": "code",
    "id": "Vpyrk1T2kT0F"
   },
   "outputs": [],
   "source": [
    "space = {'learning_rate': hp.uniform('learning_rate',0.0001,0.2), \\\n",
    "         'mom' : hp.uniform('mom',0.,1.), \\\n",
    "         'decay_rate':hp.uniform('decay_rate',0.,1.),\\\n",
    "         'loss_f' : hp.choice('loss_f',['sparse_categorical_crossentropy']), \\\n",
    "         'num_epochs' : hp.uniform('num_epochs',1,20),\\\n",
    "         'n1':hp.uniform('n1',5,200), \\\n",
    "         'n2':hp.uniform('n2',5,200), \\\n",
    "         'd_rate':hp.uniform('d_rate',0,1.)\n",
    "        }\n",
    "mix_algo = partial(mix.suggest, p_suggest=[\n",
    "    (0.05, rand.suggest),\n",
    "    (0.75, tpe.suggest),\n",
    "    (0.20, anneal.suggest)])"
   ]
  },
  {
   "cell_type": "raw",
   "metadata": {
    "colab": {
     "base_uri": "https://localhost:8080/",
     "height": 54
    },
    "colab_type": "code",
    "executionInfo": {
     "elapsed": 7331,
     "status": "ok",
     "timestamp": 1548440183333,
     "user": {
      "displayName": "tommy.markstein@mtu-online.com",
      "photoUrl": "",
      "userId": "14384501770688171723"
     },
     "user_tz": -60
    },
    "id": "fSp67H2kkT0M",
    "outputId": "d9a35da4-bca7-413d-9e3e-7a46bcc4ed6a"
   },
   "source": [
    "#Sample\n",
    "import hyperopt\n",
    "print(hyperopt.pyll.stochastic.sample(space))"
   ]
  },
  {
   "cell_type": "code",
   "execution_count": 33,
   "metadata": {
    "colab": {},
    "colab_type": "code",
    "id": "VTgzSXeykT0Z"
   },
   "outputs": [],
   "source": [
    "def objective(space):\n",
    "    learning_rate = space['learning_rate']\n",
    "    mom = space['mom']\n",
    "    decay_rate = space['decay_rate']\n",
    "    num_epochs = int(space['num_epochs'])\n",
    "    loss_f = space['loss_f']\n",
    "    n1 = int(space['n1'])\n",
    "    n2 = int(space['n2'])\n",
    "    d_rate = space['d_rate']\n",
    "    for i in space:\n",
    "      print(i,space[i],end=';')\n",
    "    print()\n",
    "    model = train(learning_rate= learning_rate,mom=mom, decay_rate=decay_rate,num_epochs=num_epochs,loss_f=loss_f, n1 = n1 , n2=n2,d_rate= d_rate)\n",
    "    score, acc = model.evaluate(x_test,y_test)\n",
    "    #print(\"Clear session...\") \n",
    "    tf.keras.backend.clear_session() #There is a memory leak in some tensorflow sessions\n",
    "    return {\n",
    "        'loss' : -1*acc,\n",
    "        'status' : STATUS_OK,\n",
    "        'eval_time': time.time(),\n",
    "    }\n",
    "    "
   ]
  },
  {
   "cell_type": "code",
   "execution_count": 34,
   "metadata": {
    "colab": {
     "base_uri": "https://localhost:8080/",
     "height": 105
    },
    "colab_type": "code",
    "executionInfo": {
     "elapsed": 14531,
     "status": "ok",
     "timestamp": 1548397216473,
     "user": {
      "displayName": "tommy.markstein@mtu-online.com",
      "photoUrl": "",
      "userId": "14384501770688171723"
     },
     "user_tz": -60
    },
    "id": "pblqQ_hWkT0e",
    "outputId": "6ec8dbb0-df03-43a9-aae7-48c98b8030ce",
    "scrolled": false
   },
   "outputs": [
    {
     "name": "stdout",
     "output_type": "stream",
     "text": [
      "#### Did number: 12555\n",
      "Saved 12555 runs in  0.18099641799926758\n",
      "Memory growth:\n",
      "list   225760       +48\n",
      "dict    74797       +12\n",
      "d_rate 0.9475731707483687;decay_rate 0.018295403826764665;learning_rate 0.004610704611258358;loss_f sparse_categorical_crossentropy;mom 0.27013517343704274;n1 174.91900118062597;n2 179.60734643227838;num_epochs 6.42044567334081;\n",
      "Epoch 1/6\n",
      "60000/60000 [==============================] - 4s 65us/step - loss: 8.9128 - acc: 0.4412\n",
      "Epoch 2/6\n",
      "60000/60000 [==============================] - 4s 61us/step - loss: 5.7400 - acc: 0.6324\n",
      "Epoch 3/6\n",
      "60000/60000 [==============================] - 4s 60us/step - loss: 4.3153 - acc: 0.7201\n",
      "Epoch 4/6\n",
      "60000/60000 [==============================] - 4s 64us/step - loss: 3.5516 - acc: 0.7663: 0s - loss: 3.5556 - acc: 0.76\n",
      "Epoch 5/6\n",
      "60000/60000 [==============================] - 4s 65us/step - loss: 2.7519 - acc: 0.8167\n",
      "Epoch 6/6\n",
      "60000/60000 [==============================] - 4s 67us/step - loss: 2.5840 - acc: 0.8286\n",
      "10000/10000 [==============================] - 0s 36us/step\n",
      "peak memory: 506.56 MiB, increment: 8.09 MiB\n",
      "d_rate 0.9967758137705122;decay_rate 0.00018571369523084054;learning_rate 0.0007358845244027894;loss_f sparse_categorical_crossentropy;mom 0.3340168701480075;n1 166.2058883899548;n2 185.79653603448847;num_epochs 5.536465932857535;\n",
      "Epoch 1/5\n",
      "60000/60000 [==============================] - 4s 68us/step - loss: 9.2053 - acc: 0.4254\n",
      "Epoch 2/5\n",
      "60000/60000 [==============================] - 4s 64us/step - loss: 6.5058 - acc: 0.5909\n",
      "Epoch 3/5\n",
      "60000/60000 [==============================] - 4s 68us/step - loss: 5.4477 - acc: 0.6578\n",
      "Epoch 4/5\n",
      "60000/60000 [==============================] - 4s 67us/step - loss: 5.3183 - acc: 0.6666\n",
      "Epoch 5/5\n",
      "60000/60000 [==============================] - 4s 67us/step - loss: 5.2375 - acc: 0.6714\n",
      "10000/10000 [==============================] - 0s 35us/step\n",
      "peak memory: 506.56 MiB, increment: 0.00 MiB\n",
      "d_rate 0.9967304855541741;decay_rate 0.0007607147453702714;learning_rate 0.000745399599855382;loss_f sparse_categorical_crossentropy;mom 0.3339222394008604;n1 166.2358981193499;n2 185.81227127390693;num_epochs 5.545979869771184;\n",
      "Epoch 1/5\n",
      "29472/60000 [=============>................] - ETA: 2s - loss: 7.1630 - acc: 0.5461"
     ]
    },
    {
     "name": "stderr",
     "output_type": "stream",
     "text": [
      "Process MemTimer-4186:\n",
      "Traceback (most recent call last):\n"
     ]
    },
    {
     "name": "stdout",
     "output_type": "stream",
     "text": [
      "Analysis done...\n"
     ]
    },
    {
     "name": "stderr",
     "output_type": "stream",
     "text": [
      "  File \"/home/markstein/.pyenv/versions/3.6.6/lib/python3.6/multiprocessing/process.py\", line 258, in _bootstrap\n",
      "    self.run()\n",
      "  File \"/home/markstein/.pyenv/versions/3.6.6/envs/dev/lib/python3.6/site-packages/memory_profiler.py\", line 233, in run\n",
      "    stop = self.pipe.poll(self.interval)\n",
      "  File \"/home/markstein/.pyenv/versions/3.6.6/lib/python3.6/multiprocessing/connection.py\", line 257, in poll\n",
      "    return self._poll(timeout)\n",
      "  File \"/home/markstein/.pyenv/versions/3.6.6/lib/python3.6/multiprocessing/connection.py\", line 414, in _poll\n",
      "    r = wait([self], timeout)\n",
      "  File \"/home/markstein/.pyenv/versions/3.6.6/lib/python3.6/multiprocessing/connection.py\", line 911, in wait\n",
      "    ready = selector.select(timeout)\n",
      "  File \"/home/markstein/.pyenv/versions/3.6.6/lib/python3.6/selectors.py\", line 376, in select\n",
      "    fd_event_list = self._poll.poll(timeout)\n",
      "KeyboardInterrupt\n"
     ]
    },
    {
     "name": "stdout",
     "output_type": "stream",
     "text": [
      "Saved 12558 runs in  0.2030811309814453\n"
     ]
    }
   ],
   "source": [
    "best = [0]\n",
    "trials = load_trials()\n",
    "\n",
    "try:\n",
    "        while True:\n",
    "            max_trials = len(trials)+1\n",
    "            %memit best.append(fmin(objective, space, algo=mix_algo, max_evals=max_trials, trials=trials))\n",
    "            if max_trials % 3 == 0:\n",
    "                clear_output()\n",
    "                print(\"#### Did number:\", max_trials)\n",
    "                save_trials()\n",
    "                print(\"Memory growth:\")\n",
    "                objgraph.show_growth(limit=3) \n",
    "\n",
    "            \n",
    "\n",
    "except KeyboardInterrupt:\n",
    "    print(\"Analysis done...\")\n",
    "    save_trials()\n",
    "best = best[-1]"
   ]
  },
  {
   "cell_type": "code",
   "execution_count": 35,
   "metadata": {
    "colab": {},
    "colab_type": "code",
    "id": "7exwpFACkT0p"
   },
   "outputs": [],
   "source": [
    "import matplotlib.pyplot as plt\n",
    "import seaborn as sns\n",
    "import pandas as pd"
   ]
  },
  {
   "cell_type": "code",
   "execution_count": 36,
   "metadata": {
    "colab": {},
    "colab_type": "code",
    "id": "1D0vXlSCkT0u"
   },
   "outputs": [],
   "source": [
    "lst = []\n",
    "all = []\n",
    "for x in trials.trials: \n",
    "    if x['result']['status']=='ok':\n",
    "        for y in x['misc']['vals']:\n",
    "            lst.append(x['misc']['vals'][y][0])\n",
    "        lst.append(x['result']['loss'])\n",
    "    all.append(lst)\n",
    "    lst = []"
   ]
  },
  {
   "cell_type": "code",
   "execution_count": 37,
   "metadata": {
    "colab": {},
    "colab_type": "code",
    "id": "K6OMpEkxFaAI"
   },
   "outputs": [
    {
     "data": {
      "text/plain": [
       "{'d_rate': 0.9963018165741212,\n",
       " 'decay_rate': 0.00016373656491834398,\n",
       " 'learning_rate': 0.0007693133167426016,\n",
       " 'loss_f': 0,\n",
       " 'mom': 0.33403565500079835,\n",
       " 'n1': 166.2337306783661,\n",
       " 'n2': 185.65791010478256,\n",
       " 'num_epochs': 5.539668526244144}"
      ]
     },
     "execution_count": 37,
     "metadata": {},
     "output_type": "execute_result"
    }
   ],
   "source": [
    "best"
   ]
  },
  {
   "cell_type": "code",
   "execution_count": 38,
   "metadata": {
    "colab": {},
    "colab_type": "code",
    "id": "fb9oX7dtkT0y"
   },
   "outputs": [
    {
     "data": {
      "text/html": [
       "<div>\n",
       "<style scoped>\n",
       "    .dataframe tbody tr th:only-of-type {\n",
       "        vertical-align: middle;\n",
       "    }\n",
       "\n",
       "    .dataframe tbody tr th {\n",
       "        vertical-align: top;\n",
       "    }\n",
       "\n",
       "    .dataframe thead th {\n",
       "        text-align: right;\n",
       "    }\n",
       "</style>\n",
       "<table border=\"1\" class=\"dataframe\">\n",
       "  <thead>\n",
       "    <tr style=\"text-align: right;\">\n",
       "      <th></th>\n",
       "      <th>d_rate</th>\n",
       "      <th>decay_rate</th>\n",
       "      <th>learning_rate</th>\n",
       "      <th>loss_f</th>\n",
       "      <th>mom</th>\n",
       "      <th>n1</th>\n",
       "      <th>n2</th>\n",
       "      <th>num_epochs</th>\n",
       "      <th>loss</th>\n",
       "    </tr>\n",
       "  </thead>\n",
       "  <tbody>\n",
       "    <tr>\n",
       "      <th>2656</th>\n",
       "      <td>0.961425</td>\n",
       "      <td>0.070958</td>\n",
       "      <td>0.005549</td>\n",
       "      <td>sparse_categorical_crossentropy</td>\n",
       "      <td>0.233899</td>\n",
       "      <td>142.677361</td>\n",
       "      <td>194.62828</td>\n",
       "      <td>7.043304</td>\n",
       "      <td>-0.101</td>\n",
       "    </tr>\n",
       "  </tbody>\n",
       "</table>\n",
       "</div>"
      ],
      "text/plain": [
       "        d_rate  decay_rate  learning_rate                           loss_f  \\\n",
       "2656  0.961425    0.070958       0.005549  sparse_categorical_crossentropy   \n",
       "\n",
       "           mom          n1         n2  num_epochs   loss  \n",
       "2656  0.233899  142.677361  194.62828    7.043304 -0.101  "
      ]
     },
     "execution_count": 38,
     "metadata": {},
     "output_type": "execute_result"
    }
   ],
   "source": [
    "pd_trials = pd.DataFrame(all)\n",
    "pd_trials.columns = ['d_rate','decay_rate','learning_rate','loss_f','mom','n1','n2','num_epochs','loss']\n",
    "pd_trials['loss_f'] = pd_trials['loss_f'].apply(lambda x : 'sparse_categorical_crossentropy' if x ==0 else 'other' )\n",
    "pd_trials = pd_trials.dropna()\n",
    "pd_trials.sample(1)"
   ]
  },
  {
   "cell_type": "code",
   "execution_count": 39,
   "metadata": {
    "colab": {},
    "colab_type": "code",
    "id": "nDZhuMg5kT03",
    "scrolled": false
   },
   "outputs": [
    {
     "data": {
      "text/plain": [
       "<seaborn.axisgrid.JointGrid at 0x7fbfdf706b00>"
      ]
     },
     "execution_count": 39,
     "metadata": {},
     "output_type": "execute_result"
    },
    {
     "data": {
      "image/png": "[encoded data removed]",
      "text/plain": [
       "<Figure size 432x432 with 3 Axes>"
      ]
     },
     "metadata": {
      "needs_background": "light"
     },
     "output_type": "display_data"
    },
    {
     "data": {
      "image/png": "[encoded data removed]",
      "text/plain": [
       "<Figure size 432x432 with 3 Axes>"
      ]
     },
     "metadata": {
      "needs_background": "light"
     },
     "output_type": "display_data"
    },
    {
     "data": {
      "image/png": "[encoded data removed]",
      "text/plain": [
       "<Figure size 432x432 with 3 Axes>"
      ]
     },
     "metadata": {
      "needs_background": "light"
     },
     "output_type": "display_data"
    },
    {
     "data": {
      "image/png": "[encoded data removed]",
      "text/plain": [
       "<Figure size 432x432 with 3 Axes>"
      ]
     },
     "metadata": {
      "needs_background": "light"
     },
     "output_type": "display_data"
    },
    {
     "data": {
      "image/png": "[encoded data removed]",
      "text/plain": [
       "<Figure size 432x432 with 3 Axes>"
      ]
     },
     "metadata": {
      "needs_background": "light"
     },
     "output_type": "display_data"
    },
    {
     "data": {
      "image/png": "[encoded data removed]",
      "text/plain": [
       "<Figure size 432x432 with 3 Axes>"
      ]
     },
     "metadata": {
      "needs_background": "light"
     },
     "output_type": "display_data"
    },
    {
     "data": {
      "image/png": "[encoded data removed]",
      "text/plain": [
       "<Figure size 432x432 with 3 Axes>"
      ]
     },
     "metadata": {
      "needs_background": "light"
     },
     "output_type": "display_data"
    }
   ],
   "source": [
    "sns.jointplot(\"learning_rate\", \"loss\", data=pd_trials, kind='kde' )\n",
    "sns.jointplot(\"mom\", \"loss\", data=pd_trials, kind='kde')\n",
    "sns.jointplot(\"decay_rate\", \"loss\", data=pd_trials, kind='kde')\n",
    "sns.jointplot(\"num_epochs\", \"loss\", data=pd_trials, kind='kde')\n",
    "sns.jointplot(\"n1\", \"loss\", data=pd_trials, kind='kde')\n",
    "sns.jointplot(\"n2\", \"loss\", data=pd_trials, kind='kde')\n",
    "sns.jointplot(\"d_rate\", \"loss\", data=pd_trials, kind='kde')"
   ]
  },
  {
   "cell_type": "code",
   "execution_count": 40,
   "metadata": {
    "colab": {},
    "colab_type": "code",
    "id": "R_fDYNBpkT09"
   },
   "outputs": [
    {
     "data": {
      "text/plain": [
       "{'d_rate': 0.9963018165741212,\n",
       " 'decay_rate': 0.00016373656491834398,\n",
       " 'learning_rate': 0.0007693133167426016,\n",
       " 'loss_f': 'sparse_categorical_crossentropy',\n",
       " 'mom': 0.33403565500079835,\n",
       " 'n1': 166.2337306783661,\n",
       " 'n2': 185.65791010478256,\n",
       " 'num_epochs': 5.539668526244144}"
      ]
     },
     "execution_count": 40,
     "metadata": {},
     "output_type": "execute_result"
    }
   ],
   "source": [
    "space_eval(space,best)"
   ]
  },
  {
   "cell_type": "code",
   "execution_count": 41,
   "metadata": {},
   "outputs": [
    {
     "name": "stdout",
     "output_type": "stream",
     "text": [
      "d_rate 0.9963018165741212;decay_rate 0.00016373656491834398;learning_rate 0.0007693133167426016;loss_f sparse_categorical_crossentropy;mom 0.33403565500079835;n1 166.2337306783661;n2 185.65791010478256;num_epochs 5.539668526244144;\n",
      "Epoch 1/5\n",
      "60000/60000 [==============================] - 4s 72us/step - loss: 7.6441 - acc: 0.5208\n",
      "Epoch 2/5\n",
      "60000/60000 [==============================] - 4s 63us/step - loss: 4.2981 - acc: 0.7276\n",
      "Epoch 3/5\n",
      "60000/60000 [==============================] - 4s 59us/step - loss: 2.0374 - acc: 0.8651\n",
      "Epoch 4/5\n",
      "60000/60000 [==============================] - 4s 63us/step - loss: 1.0243 - acc: 0.9285\n",
      "Epoch 5/5\n",
      "60000/60000 [==============================] - 4s 61us/step - loss: 0.7963 - acc: 0.9440\n",
      "10000/10000 [==============================] - 0s 30us/step\n"
     ]
    },
    {
     "data": {
      "text/plain": [
       "{'loss': -0.9463, 'status': 'ok', 'eval_time': 1548705235.4989517}"
      ]
     },
     "execution_count": 41,
     "metadata": {},
     "output_type": "execute_result"
    }
   ],
   "source": [
    "objective(space_eval(space,best))"
   ]
  },
  {
   "cell_type": "code",
   "execution_count": 42,
   "metadata": {},
   "outputs": [
    {
     "data": {
      "text/html": [
       "<div>\n",
       "<style scoped>\n",
       "    .dataframe tbody tr th:only-of-type {\n",
       "        vertical-align: middle;\n",
       "    }\n",
       "\n",
       "    .dataframe tbody tr th {\n",
       "        vertical-align: top;\n",
       "    }\n",
       "\n",
       "    .dataframe thead th {\n",
       "        text-align: right;\n",
       "    }\n",
       "</style>\n",
       "<table border=\"1\" class=\"dataframe\">\n",
       "  <thead>\n",
       "    <tr style=\"text-align: right;\">\n",
       "      <th></th>\n",
       "      <th>d_rate</th>\n",
       "      <th>decay_rate</th>\n",
       "      <th>learning_rate</th>\n",
       "      <th>loss_f</th>\n",
       "      <th>mom</th>\n",
       "      <th>n1</th>\n",
       "      <th>n2</th>\n",
       "      <th>num_epochs</th>\n",
       "      <th>loss</th>\n",
       "    </tr>\n",
       "  </thead>\n",
       "  <tbody>\n",
       "    <tr>\n",
       "      <th>5872</th>\n",
       "      <td>0.995542</td>\n",
       "      <td>0.000584</td>\n",
       "      <td>0.000909</td>\n",
       "      <td>sparse_categorical_crossentropy</td>\n",
       "      <td>0.333882</td>\n",
       "      <td>166.386438</td>\n",
       "      <td>185.704325</td>\n",
       "      <td>5.526373</td>\n",
       "      <td>-0.9556</td>\n",
       "    </tr>\n",
       "    <tr>\n",
       "      <th>8114</th>\n",
       "      <td>0.996544</td>\n",
       "      <td>0.000135</td>\n",
       "      <td>0.000787</td>\n",
       "      <td>sparse_categorical_crossentropy</td>\n",
       "      <td>0.333718</td>\n",
       "      <td>166.234430</td>\n",
       "      <td>185.762729</td>\n",
       "      <td>5.543043</td>\n",
       "      <td>-0.9557</td>\n",
       "    </tr>\n",
       "    <tr>\n",
       "      <th>8645</th>\n",
       "      <td>0.997077</td>\n",
       "      <td>0.000119</td>\n",
       "      <td>0.000753</td>\n",
       "      <td>sparse_categorical_crossentropy</td>\n",
       "      <td>0.333829</td>\n",
       "      <td>166.295935</td>\n",
       "      <td>185.658913</td>\n",
       "      <td>5.535316</td>\n",
       "      <td>-0.9556</td>\n",
       "    </tr>\n",
       "    <tr>\n",
       "      <th>8866</th>\n",
       "      <td>0.997362</td>\n",
       "      <td>0.000180</td>\n",
       "      <td>0.000843</td>\n",
       "      <td>sparse_categorical_crossentropy</td>\n",
       "      <td>0.333727</td>\n",
       "      <td>166.250125</td>\n",
       "      <td>185.578048</td>\n",
       "      <td>5.530749</td>\n",
       "      <td>-0.9557</td>\n",
       "    </tr>\n",
       "    <tr>\n",
       "      <th>8974</th>\n",
       "      <td>0.996302</td>\n",
       "      <td>0.000164</td>\n",
       "      <td>0.000769</td>\n",
       "      <td>sparse_categorical_crossentropy</td>\n",
       "      <td>0.334036</td>\n",
       "      <td>166.233731</td>\n",
       "      <td>185.657910</td>\n",
       "      <td>5.539669</td>\n",
       "      <td>-0.9563</td>\n",
       "    </tr>\n",
       "  </tbody>\n",
       "</table>\n",
       "</div>"
      ],
      "text/plain": [
       "        d_rate  decay_rate  learning_rate                           loss_f  \\\n",
       "5872  0.995542    0.000584       0.000909  sparse_categorical_crossentropy   \n",
       "8114  0.996544    0.000135       0.000787  sparse_categorical_crossentropy   \n",
       "8645  0.997077    0.000119       0.000753  sparse_categorical_crossentropy   \n",
       "8866  0.997362    0.000180       0.000843  sparse_categorical_crossentropy   \n",
       "8974  0.996302    0.000164       0.000769  sparse_categorical_crossentropy   \n",
       "\n",
       "           mom          n1          n2  num_epochs    loss  \n",
       "5872  0.333882  166.386438  185.704325    5.526373 -0.9556  \n",
       "8114  0.333718  166.234430  185.762729    5.543043 -0.9557  \n",
       "8645  0.333829  166.295935  185.658913    5.535316 -0.9556  \n",
       "8866  0.333727  166.250125  185.578048    5.530749 -0.9557  \n",
       "8974  0.334036  166.233731  185.657910    5.539669 -0.9563  "
      ]
     },
     "execution_count": 42,
     "metadata": {},
     "output_type": "execute_result"
    }
   ],
   "source": [
    "pd_trials[pd_trials['loss']<-0.955]"
   ]
  },
  {
   "cell_type": "code",
   "execution_count": null,
   "metadata": {},
   "outputs": [],
   "source": []
  }
 ],
 "metadata": {
  "accelerator": "GPU",
  "colab": {
   "collapsed_sections": [],
   "name": "MNIST_Hyperopt_More.ipynb",
   "provenance": [],
   "version": "0.3.2"
  },
  "kernelspec": {
   "display_name": "Python 3",
   "language": "python",
   "name": "python3"
  },
  "language_info": {
   "codemirror_mode": {
    "name": "ipython",
    "version": 3
   },
   "file_extension": ".py",
   "mimetype": "text/x-python",
   "name": "python",
   "nbconvert_exporter": "python",
   "pygments_lexer": "ipython3",
   "version": "3.6.6"
  }
 },
 "nbformat": 4,
 "nbformat_minor": 1
}
